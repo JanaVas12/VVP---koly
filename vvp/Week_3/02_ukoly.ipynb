{
 "cells": [
  {
   "attachments": {},
   "cell_type": "markdown",
   "metadata": {},
   "source": [
    "# Prostory jmen a obor platnosti proměnných:\n",
    "- Upravte funkci nalézající prvočísla tak, aby ukládala již spočítané prvočísla do listu v defaultním argumentu funkce. \n"
   ]
  },
  {
   "cell_type": "code",
   "execution_count": 5,
   "metadata": {},
   "outputs": [
    {
     "name": "stdout",
     "output_type": "stream",
     "text": [
      "[2, 3, 5, 7, 11, 13, 17, 19, 23, 29]\n"
     ]
    }
   ],
   "source": [
    "def prvocislo(n, p = []):\n",
    "    a = 2\n",
    "    while (len(p) < n):\n",
    "        for i in range(2,a):\n",
    "            if(a%i == 0):\n",
    "                break\n",
    "        else:  \n",
    "            p.append(a)\n",
    "        a += 1\n",
    "    return p\n",
    "\n",
    "\n",
    "print(prvocislo(10))\n"
   ]
  },
  {
   "attachments": {},
   "cell_type": "markdown",
   "metadata": {},
   "source": [
    "\n",
    "# Jupyter magics:\n",
    "- použijte funkci %%writefile a pomocí ní (a kopie funkcí z posledního DU) vytvořte .py soubor sloužící jako modul mající tři funkce viz minulý DU\n",
    "- Použijte magic příkazy %time %timeit %%time a %%timeit k měření času běhu různých částí kódu (například funkcí z minulého DU).\n"
   ]
  },
  {
   "cell_type": "code",
   "execution_count": 9,
   "metadata": {},
   "outputs": [
    {
     "name": "stdout",
     "output_type": "stream",
     "text": [
      "Overwriting ukoly1.py\n"
     ]
    }
   ],
   "source": [
    "%%writefile ukoly1.py\n",
    "def root(a,n):\n",
    "    x = a\n",
    "    if (x == 0):\n",
    "        x = a\n",
    "    else:\n",
    "        for i in range (n):\n",
    "         x = (a/x + x)/2\n",
    "\n",
    "    return x\n",
    "\n",
    "print(root(4,100))\n",
    "\n",
    "def aprox(n):\n",
    "    a = 1\n",
    "    b = 1\n",
    "   \n",
    "    for i in range(n):\n",
    "         v = root(a - (b/2)**2, 100)\n",
    "         n = 6*b*v/2 * 2**i\n",
    "         b = root((b/2)**2 + (1-v)**2,100)\n",
    "    return n\n",
    "\n",
    "print(aprox(96))\n",
    "\n",
    "def newton(n):\n",
    "    a = (1/2)*(1/2**3)\n",
    "    s = 0\n",
    "\n",
    "    for i in range (1,n):\n",
    "        s += a/(2*i+1)\n",
    "        a = (2*(i+1)-3)/(2*(i+1))*a/(2**2)\n",
    "\n",
    "    return 12*(root(3,1000)/(-8)+0.5-s)\n",
    "    \n",
    "\n",
    "print(newton(20))\n",
    "\n",
    "\n"
   ]
  },
  {
   "cell_type": "code",
   "execution_count": 4,
   "metadata": {},
   "outputs": [
    {
     "name": "stdout",
     "output_type": "stream",
     "text": [
      "Wall time: 0 ns\n",
      "11.2 µs ± 699 ns per loop (mean ± std. dev. of 7 runs, 100000 loops each)\n",
      "107 µs ± 5.38 µs per loop (mean ± std. dev. of 7 runs, 10000 loops each)\n"
     ]
    },
    {
     "name": "stderr",
     "output_type": "stream",
     "text": [
      "UsageError: Line magic function `%%timeit` not found.\n"
     ]
    }
   ],
   "source": [
    "def root(a,n):\n",
    "    x = a\n",
    "    if (x == 0):\n",
    "        x = a\n",
    "    else:\n",
    "        for i in range (n):\n",
    "         x = (a/x + x)/2\n",
    "\n",
    "    return x\n",
    "\n",
    "def newton(n):\n",
    "    a = (1/2)*(1/2**3)\n",
    "    s = 0\n",
    "\n",
    "    for i in range (1,n):\n",
    "        s += a/(2*i+1)\n",
    "        a = (2*(i+1)-3)/(2*(i+1))*a/(2**2)\n",
    "\n",
    "    return 12*(root(3,1000)/(-8)+0.5-s)\n",
    "    \n",
    "\n",
    "%time root(100,100)\n",
    "%timeit root(100,100)\n",
    "%timeit newton(20)\n",
    "%%timeit\n",
    "newton(100)"
   ]
  },
  {
   "cell_type": "markdown",
   "metadata": {},
   "source": [
    "\n",
    "# Práce s řetězci:\n",
    "\n",
    "- Použíjte funkce z minulého úkolu a v cyklu spočtěte $\\pi$ s různým $n$. Pomocí f-strings vypište výsledky ve formátu \"n = 5, pi = 3.14159, počet správných cifer = 5\".\n"
   ]
  },
  {
   "cell_type": "code",
   "execution_count": 14,
   "metadata": {},
   "outputs": [
    {
     "name": "stdout",
     "output_type": "stream",
     "text": [
      "n = 1, pi = 3.401923788646684, pocet spravnych cifer 1\n",
      "n = 2, pi = 3.1519237886466844, pocet spravnych cifer 2\n",
      "n = 3, pi = 3.1425487886466845, pocet spravnych cifer 3\n",
      "n = 4, pi = 3.1417117350752557, pocet spravnych cifer 4\n",
      "n = 5, pi = 3.1416100098148387, pocet spravnych cifer 5\n"
     ]
    }
   ],
   "source": [
    "def newton(n):\n",
    "    a = (1/2)*(1/2**3)\n",
    "    s = 0\n",
    "\n",
    "    for i in range (1,n):\n",
    "        s += a/(2*i+1)\n",
    "        a = (2*(i+1)-3)/(2*(i+1))*a/(2**2)\n",
    "\n",
    "    return 12*(root(3,1000)/(-8)+0.5-s)\n",
    "\n",
    "n = 5\n",
    "for i in range(1,n+1):\n",
    "    print(f\"n = {i}, pi = {newton(i)}, pocet spravnych cifer {i}\")\n",
    "        "
   ]
  },
  {
   "cell_type": "markdown",
   "metadata": {},
   "source": [
    "\n",
    "# Generátory a iterátory:\n",
    "\n",
    "- Napište generátor (funkci), který vytváří Fibonacciho posloupnost a vrátí prvních $n$ členů.\n"
   ]
  },
  {
   "cell_type": "code",
   "execution_count": 11,
   "metadata": {},
   "outputs": [
    {
     "name": "stdout",
     "output_type": "stream",
     "text": [
      "0\n",
      "1\n",
      "1\n",
      "2\n",
      "3\n",
      "5\n",
      "8\n",
      "13\n",
      "21\n",
      "34\n"
     ]
    }
   ],
   "source": [
    "def Fibonacci(n):\n",
    "    a, b = 0, 1\n",
    "    for i in range(n):\n",
    "        yield a\n",
    "        a, b = b, a + b\n",
    "\n",
    "\n",
    "n = 10\n",
    "f = Fibonacci(n)\n",
    "\n",
    "for i in range (n):\n",
    "    print(next(f))"
   ]
  },
  {
   "cell_type": "markdown",
   "metadata": {},
   "source": [
    "\n",
    "# List comprehension:\n",
    "- Vytvořte seznam čísel od 1 do 10 pomocí list comprehension.\n",
    "- Vytvořte seznam druhých mocnin čísel od 1 do 10 pomocí list comprehension.\n",
    "- Vytvořte seznam prvočísel od 1 do 100 pomocí list comprehension. Hint (použijte funkci all() na generátor testující dělitelnost).\n"
   ]
  },
  {
   "cell_type": "code",
   "execution_count": 12,
   "metadata": {},
   "outputs": [
    {
     "name": "stdout",
     "output_type": "stream",
     "text": [
      "[1, 2, 3, 4, 5, 6, 7, 8, 9, 10]\n",
      "[1, 4, 9, 16, 25, 36, 49, 64, 81, 100]\n",
      "[2, 3, 5, 7, 11, 13, 17, 19, 23, 29, 31, 37, 41, 43, 47, 53, 59, 61, 67, 71, 73, 79, 83, 89, 97]\n"
     ]
    }
   ],
   "source": [
    "print([i for i in range (1,11)])\n",
    "print([i**2 for i in range(1,11)])\n",
    "print([i for i in range(2, 101) if all(i % j != 0 for j in range(2, i))])"
   ]
  },
  {
   "cell_type": "markdown",
   "metadata": {},
   "source": [
    "\n",
    "# Práce se soubory:\n",
    "- Pomocí %%writefile vytvořte soubor s nějakým textem.\n",
    "- Otevřete soubor pro čtení a vypište jeho obsah.\n",
    "- Otevřete jiný soubor pro zápis a napište do něj textový řetězec.\n",
    "- Pomocí f-strings zapište do souboru tabulku čísel od 1 do 10, jejich druhých mocnin a jejich druhých odmocnin."
   ]
  },
  {
   "cell_type": "code",
   "execution_count": 44,
   "metadata": {},
   "outputs": [
    {
     "name": "stdout",
     "output_type": "stream",
     "text": [
      "Writing nejakytext.txt\n"
     ]
    }
   ],
   "source": [
    "%%writefile nejakytext.txt\n",
    "ahoj jak se mas\n",
    "mam hlad\n",
    "uz nemuzu\n",
    "\n"
   ]
  },
  {
   "cell_type": "code",
   "execution_count": 56,
   "metadata": {},
   "outputs": [
    {
     "name": "stdout",
     "output_type": "stream",
     "text": [
      "ahoj jak se mas\n",
      "mam hlad\n",
      "uz nemuzu\n",
      "\n"
     ]
    }
   ],
   "source": [
    "vety = open(\"nejakytext.txt\", \"r\")\n",
    "print(vety.read())\n",
    "\n",
    "import math\n",
    "\n",
    "with open(\"jinysoubor.txt\", \"w\", newline=\"\") as vety:\n",
    "    vety.write(\"čislo, mocnina, odmocina\\n\")\n",
    "    for i in range(1, 11):\n",
    "        vety.write(f\"{i}      {i**2}        {math.sqrt(i)}\\n\")"
   ]
  },
  {
   "attachments": {},
   "cell_type": "markdown",
   "metadata": {},
   "source": [
    "# Domácí úkol:\n",
    "Pomocí vlastních tříd a dědičnosti vytvořte \"soubor tříd\" = nástroj pro derivaci funkcí.\n",
    "\n",
    "Konkrétněji:\n",
    "- Vytvořte třídu **Operator**\n",
    "    - Třída bude mít metody:\n",
    "        - `__init__()` - inicializuje operátor (zde stačí `pass`)\n",
    "        - `__str__()` - vrací řetězec reprezentující operátor\n",
    "        - `__repr__()` - vrací řetězec reprezentující operátor\n",
    "- Vytvořte třídu **BinaryOperator**, která bude dědit od třídy Operator\n",
    "    - Třída bude mít atributy:\n",
    "        - `levy_argument` - levý operand\n",
    "        - `pravy_argument` - pravý operand\n",
    "    - Třída bude mít metody:\n",
    "        - `__init__()` - inicializuje operátor, přiřadí argumenty\n",
    "        - `__str__()` - vrací řetězec reprezentující operátor\n",
    "        - `__repr__()` - vrací řetězec reprezentující operátor\n",
    "        - `diff()` - vrací derivaci operátoru\n",
    "- Vytvořte třídu **UnaryOperator**, která bude dědit od třídy Operator\n",
    "    - Třída bude mít atributy:\n",
    "        - `argument` - argument funkce \n",
    "    - Třída bude mít metody:\n",
    "        - `__init__()` - inicializuje operátor, přiřadí argument\n",
    "        - `__str__()` - vrací řetězec reprezentující operátor\n",
    "        - `__repr__()` - vrací řetězec reprezentující operátor\n",
    "        - `diff()` - vrací derivaci operátoru\n",
    "\n",
    "Pro počítání derivací použijte standardní pravidla:\n",
    "- derivace součtu je součet derivací\n",
    "- pravidlo pro derivaci součinu\n",
    "- derivace funkce je derivovaná funkce násobená derivovaným argumentem\n",
    "\n",
    "Pro **BinaryOperator** a **UnaryOperator** implementujte také metody implementující standardní operátory:\n",
    "- `__add__()` - implementuje operátor `+`\n",
    "- `__sub__()` - implementuje operátor `-`\n",
    "- `__mul__()` - implementuje operátor `*`\n",
    "\n",
    "Pro **BinaryOperator** implementujte dvě dceřiné třídy:\n",
    "- **Addition** - implementuje operátor `+`\n",
    "- **Multiplication** - implementuje operátor `*`\n",
    "\n",
    "Pro **UnaryOperator** implementujte tyto dceřiné třídy:\n",
    "- **exp** - implementuje funkci `exp`\n",
    "- **sin** - implementuje funkci `sin`\n",
    "- **cos** - implementuje funkci `cos`\n",
    "- **ln** - implementuje funkci `ln`\n",
    "- **frc** - implementuje funkci `1/x`\n",
    "- **identity** - implementuje identitu `x`\n",
    "- **cst** - implementuje konstantu `c`\n",
    "- **mocnina** - implementuje mocninu `x^n`\n",
    "\n",
    "U všech funckí implementujte adekvátně metodu `diff()` a `__str__()`, tak aby se funkce vypisovaly v přehledné podobě.\n",
    "\n",
    "Ozkoušejte na následujících funkcích:\n",
    "- $sin(x + cos(x*x)) + 1$\n",
    "- $x^2 + 2x + 1 + 2x^2$\n",
    "- $x^2 + 2x + exp(x)$"
   ]
  },
  {
   "cell_type": "code",
   "execution_count": 19,
   "metadata": {},
   "outputs": [],
   "source": [
    "# kostra k doplnění, místa označená TODO doplňte\n",
    "\n",
    "class Operator:\n",
    "    def __init__(self):\n",
    "        pass\n",
    "    \n",
    "    def __str__(self):\n",
    "        return type(self).__name__\n",
    "    \n",
    "    def __repr__(self):\n",
    "        return self.__str__()\n",
    "    \n",
    "    def diff(self):\n",
    "        pass\n",
    "    \n",
    "    def __add__(self, other):\n",
    "        return Addition(self, other)\n",
    "    \n",
    "    def __sub__(self, other):\n",
    "        return Addition(self, Multiplication(cst(-1), other))\n",
    "    \n",
    "    def __mul__(self, other):\n",
    "        return Multiplication(self, other)\n",
    "    \n",
    "class BinaryOperator(Operator):\n",
    "    def __init__(self, levy_argument, pravy_argument):\n",
    "        self.levy_argument = levy_argument\n",
    "        self.pravy_argument = pravy_argument\n",
    "        \n",
    "class UnaryOperator(Operator):\n",
    "    def __init__(self, argument):\n",
    "        self.argument = argument\n",
    "    \n",
    "    def __str__(self):\n",
    "        return type(self).__name__ + \"(\" + str(self.argument) + \")\"\n",
    "        \n",
    "class Addition(BinaryOperator):\n",
    "    def __str__(self):\n",
    "        return  str(self.levy_argument) + \"+\" + str(self.pravy_argument) \n",
    "    \n",
    "    def diff(self):\n",
    "        return self.levy_argument.diff() + self.pravy_argument.diff()\n",
    "    \n",
    "class Multiplication(BinaryOperator):\n",
    "    def __str__(self):\n",
    "        return str(self.levy_argument) + \"*\" + str(self.pravy_argument) \n",
    "    \n",
    "    def diff(self):\n",
    "        return self.levy_argument.diff() * self.pravy_argument + self.levy_argument * self.pravy_argument.diff()\n",
    "    \n",
    "class cst(UnaryOperator):\n",
    "    def __init__(self, value):\n",
    "        self.value = value\n",
    "        \n",
    "    def __str__(self):\n",
    "        return str(self.value)\n",
    "    \n",
    "    def diff(self):\n",
    "        return cst(0)\n",
    "    \n",
    "class identity(UnaryOperator):\n",
    "    def __init__(self):\n",
    "        pass\n",
    "    \n",
    "    def __str__(self):\n",
    "        return \"x\"\n",
    "    \n",
    "    def diff(self):\n",
    "        return cst(1)\n",
    "    \n",
    "class mocnina(UnaryOperator):\n",
    "    def __init__(self, argument, exponent):\n",
    "        self.argument = argument\n",
    "        self.exponent = exponent\n",
    "    \n",
    "    def __str__(self):\n",
    "        return str(self.argument) + \"^\" + str(self.exponent) \n",
    "    \n",
    "    def diff(self):\n",
    "        return self.argument.diff() * self.exponent * mocnina(self.argument, self.exponent - 1)\n",
    "    \n",
    "class sin(UnaryOperator):\n",
    "    def __str__(self):\n",
    "        return \"sin(\" + str(self.argument) + \")\"\n",
    "    \n",
    "    def diff(self):\n",
    "        return cos(self.argument) * self.argument.diff()\n",
    "    \n",
    "class cos(UnaryOperator):\n",
    "    def __str__(self):\n",
    "        return \"cos(\" + str(self.argument) + \")\"\n",
    "    \n",
    "    def diff(self):\n",
    "        return cst(-1) * sin(self.argument) * self.argument.diff()\n",
    "    \n",
    "class exp(UnaryOperator):\n",
    "    def __str__(self):\n",
    "        return \"exp(\" + str(self.argument) + \")\"\n",
    "    \n",
    "    def diff(self):\n",
    "        return exp(self.argument)\n",
    "    \n",
    "class ln(UnaryOperator):\n",
    "    def __str__(self):\n",
    "        return \"ln(\" + str(self.argument) + \")\"\n",
    "    \n",
    "    def diff(self):\n",
    "        return frc(cst(1), self.argument) * self.argument.diff()\n",
    "    \n",
    "class frc(UnaryOperator):\n",
    "    def __str__(self):\n",
    "        return \"1/\" + str(self.argument) \n",
    "    \n",
    "    def diff(self):\n",
    "        return cst(-1) * frc(cst(1), mocnina(self.argument, 2)) * self.argument.diff()\n"
   ]
  },
  {
   "cell_type": "code",
   "execution_count": 20,
   "metadata": {},
   "outputs": [
    {
     "name": "stdout",
     "output_type": "stream",
     "text": [
      "sin(x+cos(x*x))+1\n",
      "cos(x+cos(x*x))*1+-1*sin(x*x)*1*x+x*1+0\n"
     ]
    }
   ],
   "source": [
    "# takto by se to mělo používat\n",
    "x = identity()\n",
    "# sin(x + cos(x*x)) + 1\n",
    "f1 = sin(x + cos(x*x)) + cst(1)\n",
    "print(f1)\n",
    "print(f1.diff())"
   ]
  },
  {
   "attachments": {},
   "cell_type": "markdown",
   "metadata": {},
   "source": [
    "můj výstup byl:\n",
    "\n",
    "`sin(x + cos((x)*(x))) + 1`\n",
    "\n",
    "`(cos(x + cos((x)*(x))))*(1 + ((-1)*(sin((x)*(x))))*((1)*(x) + (x)*(1))) + 0`"
   ]
  },
  {
   "cell_type": "code",
   "execution_count": 21,
   "metadata": {},
   "outputs": [
    {
     "name": "stdout",
     "output_type": "stream",
     "text": [
      "x^2+2*x+1+2*x^2\n",
      "1*2*x^1+0*x+2*1+0+0*x^2+2*1*2*x^1\n"
     ]
    }
   ],
   "source": [
    "x = identity()\n",
    "# x ^ 2 + 2x + 1 + 2x ^ 2\n",
    "f2 = mocnina(x,2) + cst(2)*x + cst(1) + cst(2)*mocnina(x,2)\n",
    "print(f2)\n",
    "print(f2.diff())\n"
   ]
  },
  {
   "attachments": {},
   "cell_type": "markdown",
   "metadata": {},
   "source": [
    "můj výstup byl:\n",
    "\n",
    "`(x)^2 + (2)*(x) + 1 + (2)*((x)^2)`\n",
    "\n",
    "`((2)*((x)^1))*(1) + (0)*(x) + (2)*(1) + 0 + (0)*((x)^2) + (2)*(((2)*((x)^1))*(1))`"
   ]
  },
  {
   "cell_type": "code",
   "execution_count": 22,
   "metadata": {},
   "outputs": [
    {
     "name": "stdout",
     "output_type": "stream",
     "text": [
      "x^2+2*x+exp(x)\n",
      "1*2*x^1+0*x+2*1+exp(x)\n"
     ]
    }
   ],
   "source": [
    "x = identity()\n",
    "# x ^ 2 + 2x + exp(x)\n",
    "f3 = mocnina(x,2) + cst(2)*x + exp(x)\n",
    "print(f3)\n",
    "print(f3.diff())\n"
   ]
  },
  {
   "attachments": {},
   "cell_type": "markdown",
   "metadata": {},
   "source": [
    "můj výstup byl:\n",
    "\n",
    "`(x)^2 + (2)*(x) + exp(x)`\n",
    "\n",
    "`((2)*((x)^1))*(1) + (0)*(x) + (2)*(1) + (exp(x))*(1)`\n"
   ]
  },
  {
   "attachments": {},
   "cell_type": "markdown",
   "metadata": {},
   "source": [
    "# Bonusový úkol:\n",
    "Doplňte ke všem třídám metodu `simplify()`, která provede zjednodušení výrazu. Například:\n",
    "- součet s nulou vrátí druhý operand\n",
    "- součin s nulou vrátí nulu\n",
    "- mocnina s exponentem 0 vrátí 1\n",
    "- mocnina s exponentem 1 vrátí první argument\n",
    "- součín dvou stejných argumentů vrátí mocninu s exponentem 2\n",
    "- součin konstant vrátí konstantu se součinem\n",
    "- ..."
   ]
  },
  {
   "cell_type": "markdown",
   "metadata": {},
   "source": []
  }
 ],
 "metadata": {
  "kernelspec": {
   "display_name": "Python 3",
   "language": "python",
   "name": "python3"
  },
  "language_info": {
   "codemirror_mode": {
    "name": "ipython",
    "version": 3
   },
   "file_extension": ".py",
   "mimetype": "text/x-python",
   "name": "python",
   "nbconvert_exporter": "python",
   "pygments_lexer": "ipython3",
   "version": "3.9.13"
  },
  "orig_nbformat": 4,
  "vscode": {
   "interpreter": {
    "hash": "e7370f93d1d0cde622a1f8e1c04877d8463912d04d973331ad4851f04de6915a"
   }
  }
 },
 "nbformat": 4,
 "nbformat_minor": 2
}
